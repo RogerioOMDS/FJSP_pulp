{
 "cells": [
  {
   "cell_type": "code",
   "execution_count": 1,
   "metadata": {},
   "outputs": [],
   "source": [
    "import pandas as pd \n",
    "import numpy as np \n",
    "import time\n",
    "import pulp"
   ]
  },
  {
   "cell_type": "code",
   "execution_count": 2,
   "metadata": {},
   "outputs": [],
   "source": [
    "solver = pulp.get_solver('GUROBI')"
   ]
  },
  {
   "cell_type": "code",
   "execution_count": 3,
   "metadata": {},
   "outputs": [],
   "source": [
    "ordem_operacoes=pd.read_excel(\"Dados_DFJSP.xlsx\", sheet_name=\"ordem_operacoes\")\n",
    "tempo_de_processamento=pd.read_excel(\"Dados_DFJSP.xlsx\", sheet_name=\"tempo_de_processamento\")\n",
    "\n",
    "# ordem_operacoes.replace({0:None}, inplace = True)\n",
    "# tempo_de_processamento.replace({0:None}, inplace = True)\n",
    "\n",
    "ops = ordem_operacoes.values\n",
    "pt = tempo_de_processamento.values"
   ]
  },
  {
   "cell_type": "code",
   "execution_count": 4,
   "metadata": {},
   "outputs": [],
   "source": [
    "# número de jobs\n",
    "n_jobs = len(ordem_operacoes[\"Job\"].unique())\n",
    "\n",
    "# numero de operações\n",
    "n_operations = len(tempo_de_processamento[\"Operacao\"].unique())\n",
    "\n",
    "# numero de job\n",
    "n_maquinas = len(tempo_de_processamento[\"maquina\"].unique())"
   ]
  },
  {
   "cell_type": "code",
   "execution_count": 5,
   "metadata": {},
   "outputs": [
    {
     "name": "stdout",
     "output_type": "stream",
     "text": [
      "Número de jobs:  5\n",
      "Número de operações:  6\n",
      "Número de maquinas:  5\n"
     ]
    }
   ],
   "source": [
    "print(f\"Número de jobs: \", n_jobs)\n",
    "print(f\"Número de operações: \", n_operations)\n",
    "print(f\"Número de maquinas: \", n_maquinas)"
   ]
  },
  {
   "cell_type": "code",
   "execution_count": 6,
   "metadata": {},
   "outputs": [],
   "source": [
    "Cmax = pulp.LpVariable('Cmax',lowBound = 0, cat='Continuous')\n",
    "\n",
    "Ci = pulp.LpVariable.dicts(\"start_time\",\n",
    "                           ((i) for i in range(1,n_jobs + 1)),\n",
    "                           lowBound=0,\n",
    "                           cat='Continuous')\n",
    "#i=job,j=operation,k=maquina\n",
    "st = pulp.LpVariable.dicts(\"start_time\",\n",
    "                           ((i, j, k) for i in range(1,n_jobs + 1) for j in [ops[i-1][o] for o in range(1,n_operations - 1) if ops[i-1][o]!=0] for k in list(tempo_de_processamento.loc[(tempo_de_processamento['Operacao']==j),'maquina'])),\n",
    "                           lowBound=0,\n",
    "                           cat='Continuous')\n"
   ]
  },
  {
   "cell_type": "code",
   "execution_count": 7,
   "metadata": {},
   "outputs": [],
   "source": [
    "\n",
    "ct = pulp.LpVariable.dicts(\"completed_time\",\n",
    "                           ((i, j, k) for i in range(1,n_jobs + 1) for j in [ops[i-1][o] for o in range(1,n_operations - 1) if ops[i-1][o]!=0] for k in list(tempo_de_processamento.loc[(tempo_de_processamento['Operacao']==j),'maquina'])),\n",
    "                           lowBound=0,\n",
    "                           cat='Continuous')\n",
    "\n",
    "x = pulp.LpVariable.dicts(\"X_binary_var\",\n",
    "                          ((i, j, k) for i in range(1,n_jobs + 1) for j in [ops[i-1][o] for o in range(1,n_operations - 1) if ops[i-1][o]!=0] for k in list(tempo_de_processamento.loc[(tempo_de_processamento['Operacao']==j),'maquina'])),\n",
    "                          lowBound=0, upBound=1,\n",
    "                          cat='Binary')\n",
    "\n",
    "y = pulp.LpVariable.dicts(\"Y_binary_var\",\n",
    "                          ((i, j, l, m,k) for i in range(1,n_jobs + 1) for j in [ops[i-1][o] for o in range(1,n_operations - 1) if ops[i-1][o]!=0]  for l in range(1,6) for m in [ops[l-1][a] for a in range(1,5) if ops[l-1][a]!=0]  for k in list(set(list(tempo_de_processamento.loc[(tempo_de_processamento['Operacao']==j),'maquina']))&set(list(tempo_de_processamento.loc[(tempo_de_processamento['Operacao']==m),'maquina']))) if i < l ),\n",
    "                          lowBound=0, upBound=1,\n",
    "                          cat='Binary')"
   ]
  },
  {
   "cell_type": "code",
   "execution_count": 8,
   "metadata": {},
   "outputs": [],
   "source": [
    "model = pulp.LpProblem(\"MIN_makespan\", pulp.LpMinimize)\n",
    "model += Cmax"
   ]
  },
  {
   "cell_type": "code",
   "execution_count": 9,
   "metadata": {},
   "outputs": [],
   "source": [
    "for i in range(1,n_jobs + 1):\n",
    "    for j in [ops[i-1][o] for o in range(1,n_operations - 1) if ops[i-1][o]!=0]:\n",
    "        ma_list=list(tempo_de_processamento.loc[(tempo_de_processamento['Operacao']==j),'maquina'])\n",
    "        model += pulp.lpSum(x[i,j,ma] for ma in ma_list)==1"
   ]
  },
  {
   "cell_type": "code",
   "execution_count": 10,
   "metadata": {},
   "outputs": [],
   "source": [
    "for i in range(1,n_jobs + 1):\n",
    "    for j in [ops[i-1][o] for o in range(1,n_operations - 1) if ops[i-1][o]!=0]:\n",
    "        ma_list=list(tempo_de_processamento.loc[(tempo_de_processamento['Operacao']==j),'maquina'])\n",
    "        for k in ma_list:\n",
    "            ptime=int(tempo_de_processamento.loc[(tempo_de_processamento['Operacao']==j)&(tempo_de_processamento['maquina']==k),[f\"Job{i}\"]].iloc[0])\n",
    "            I = i\n",
    "            J = j\n",
    "            K = k\n",
    "            model += st[I,J,K] + ct[I,J,K] <=x[I,J,K]*1000\n",
    "            model += ct[I,J,K] >= st[I,J,K] +ptime-(1-x[I,J,K])*1000"
   ]
  },
  {
   "cell_type": "code",
   "execution_count": 11,
   "metadata": {},
   "outputs": [],
   "source": [
    "for i in range(1,n_jobs + 1):\n",
    "    for l in range(1,n_jobs + 1):\n",
    "        if i<l:\n",
    "            for o1 in [ops[i-1][o] for o in range(1,n_operations - 1) if ops[i-1][o]!=0]:\n",
    "                ma1_list=list(tempo_de_processamento.loc[(tempo_de_processamento['Operacao']==o1)&(tempo_de_processamento.loc[:][f\"Job{i}\"]!=0),'maquina'])\n",
    "                for o2 in [ops[l-1][o] for o in range(1,n_operations - 1) if ops[l-1][o]!=0]:\n",
    "                    ma2_list=list(tempo_de_processamento.loc[(tempo_de_processamento['Operacao']==o2)&(tempo_de_processamento.loc[:][f\"Job{l}\"]!=0),'maquina'])\n",
    "                    mach_set=list(set(ma1_list)&set(ma2_list))\n",
    "                    if len(mach_set)>0:\n",
    "                        for k in mach_set:\n",
    "                            model += st[i,o1,k]>=ct[l,o2,k]-y[i,o1,l,o2,k]*1000\n",
    "                            model += st[l,o2,k]>=ct[i,o1,k]-(1-y[i,o1,l,o2,k])*1000"
   ]
  },
  {
   "cell_type": "code",
   "execution_count": 12,
   "metadata": {},
   "outputs": [
    {
     "name": "stdout",
     "output_type": "stream",
     "text": [
      "[5, 4, 2, 3]\n",
      "1 1\n",
      "J1\n",
      "pc\n",
      "5 4\n",
      "1 2\n",
      "J1\n",
      "pc\n",
      "4 2\n",
      "1 3\n",
      "J1\n",
      "pc\n",
      "2 3\n",
      "[1, 4, 2]\n",
      "2 1\n",
      "J2\n",
      "pc\n",
      "1 4\n",
      "2 2\n",
      "J2\n",
      "pc\n",
      "4 2\n",
      "[3, 5, 1, 4]\n",
      "3 1\n",
      "J3\n",
      "pc\n",
      "3 5\n",
      "3 2\n",
      "J3\n",
      "pc\n",
      "5 1\n",
      "3 3\n",
      "J3\n",
      "pc\n",
      "1 4\n",
      "[3, 2, 5, 4]\n",
      "4 1\n",
      "J4\n",
      "pc\n",
      "3 2\n",
      "4 2\n",
      "J4\n",
      "pc\n",
      "2 5\n",
      "4 3\n",
      "J4\n",
      "pc\n",
      "5 4\n",
      "[4, 6]\n",
      "5 1\n",
      "J5\n",
      "pc\n",
      "4 6\n"
     ]
    }
   ],
   "source": [
    "for i in range(1,n_jobs + 1):\n",
    "    op_num=[ops[i-1][o] for o in range(1,n_operations - 1) if ops[i-1][o]!=0]\n",
    "    print(op_num)\n",
    "    for j in range(1,len(op_num)):\n",
    "        print(i,j)\n",
    "        preop_num=op_num[j-1]\n",
    "        curop_num=op_num[j]\n",
    "        print(\"J%d\"%i)\n",
    "        print('pc')\n",
    "        print(preop_num,curop_num)\n",
    "        prema_list=list(tempo_de_processamento.loc[(tempo_de_processamento['Operacao']==preop_num)&(tempo_de_processamento.loc[:][f\"Job{i}\"]!=0),'maquina'])\n",
    "        curma_list=list(tempo_de_processamento.loc[(tempo_de_processamento['Operacao']==curop_num)&(tempo_de_processamento.loc[:][f\"Job{i}\"]!=0),'maquina'])\n",
    "        model += pulp.lpSum(st[i,curop_num,ma1] for ma1 in curma_list) >= pulp.lpSum(ct[i,preop_num,ma2] for ma2 in prema_list)"
   ]
  },
  {
   "cell_type": "code",
   "execution_count": 13,
   "metadata": {},
   "outputs": [],
   "source": [
    "for i in range(1,n_jobs + 1):\n",
    "    op_list=[ops[i-1][o] for o in range(1,n_operations - 1) if ops[i-1][o]!=0]\n",
    "    last_op=op_list[-1]\n",
    "    model +=Ci[i]>=pulp.lpSum(ct[i,last_op,k] for k in list(tempo_de_processamento.loc[(tempo_de_processamento['Operacao']==last_op),'maquina']))\n",
    "    model += Cmax >= Ci[i]"
   ]
  },
  {
   "cell_type": "code",
   "execution_count": 14,
   "metadata": {},
   "outputs": [
    {
     "name": "stdout",
     "output_type": "stream",
     "text": [
      "Restricted license - for non-production use only - expires 2023-10-25\n",
      "Gurobi Optimizer version 9.5.2 build v9.5.2rc0 (win64)\n",
      "Thread count: 6 physical cores, 12 logical processors, using up to 12 threads\n",
      "Optimize a model with 337 rows, 223 columns and 1001 nonzeros\n",
      "Model fingerprint: 0x9be162e4\n",
      "Variable types: 74 continuous, 149 integer (0 binary)\n",
      "Coefficient statistics:\n",
      "  Matrix range     [1e+00, 1e+03]\n",
      "  Objective range  [1e+00, 1e+00]\n",
      "  Bounds range     [1e+00, 1e+00]\n",
      "  RHS range        [1e+00, 1e+03]\n",
      "Presolve removed 23 rows and 23 columns\n",
      "Presolve time: 0.00s\n",
      "Presolved: 314 rows, 200 columns, 921 nonzeros\n",
      "Variable types: 68 continuous, 132 integer (132 binary)\n",
      "Found heuristic solution: objective 449.0000000\n",
      "\n",
      "Root relaxation: objective 1.650000e+02, 143 iterations, 0.00 seconds (0.00 work units)\n",
      "\n",
      "    Nodes    |    Current Node    |     Objective Bounds      |     Work\n",
      " Expl Unexpl |  Obj  Depth IntInf | Incumbent    BestBd   Gap | It/Node Time\n",
      "\n",
      "     0     0  165.00000    0   21  449.00000  165.00000  63.3%     -    0s\n",
      "H    0     0                     259.0000000  165.00000  36.3%     -    0s\n",
      "     0     0  165.00000    0   21  259.00000  165.00000  36.3%     -    0s\n",
      "H    0     0                     257.0000000  165.00000  35.8%     -    0s\n",
      "H    0     0                     223.0000000  165.00000  26.0%     -    0s\n",
      "H    0     0                     215.0000000  165.00000  23.3%     -    0s\n",
      "     0     0  165.00000    0   10  215.00000  165.00000  23.3%     -    0s\n",
      "H    0     0                     212.0000000  165.00000  22.2%     -    0s\n",
      "     0     0  165.00000    0   14  212.00000  165.00000  22.2%     -    0s\n",
      "     0     0  165.00000    0   14  212.00000  165.00000  22.2%     -    0s\n",
      "     0     0  165.00000    0   10  212.00000  165.00000  22.2%     -    0s\n",
      "     0     0  165.00000    0   10  212.00000  165.00000  22.2%     -    0s\n",
      "H    0     0                     198.0000000  165.00000  16.7%     -    0s\n",
      "     0     2  165.00000    0   10  198.00000  165.00000  16.7%     -    0s\n",
      "*  181    31              11     193.0000000  169.00000  12.4%  12.6    0s\n",
      "\n",
      "Cutting planes:\n",
      "  Gomory: 7\n",
      "  Cover: 7\n",
      "  Implied bound: 2\n",
      "  MIR: 25\n",
      "  Flow cover: 34\n",
      "  RLT: 9\n",
      "  Relax-and-lift: 5\n",
      "\n",
      "Explored 349 nodes (4558 simplex iterations) in 0.18 seconds (0.06 work units)\n",
      "Thread count was 12 (of 12 available processors)\n",
      "\n",
      "Solution count 8: 193 198 212 ... 449\n",
      "\n",
      "Optimal solution found (tolerance 1.00e-04)\n",
      "Best objective 1.930000000000e+02, best bound 1.930000000000e+02, gap 0.0000%\n",
      "Gurobi status= 2\n"
     ]
    },
    {
     "data": {
      "text/plain": [
       "'Optimal'"
      ]
     },
     "execution_count": 14,
     "metadata": {},
     "output_type": "execute_result"
    }
   ],
   "source": [
    "model.solve(solver)\n",
    "pulp.LpStatus[model.status]     "
   ]
  },
  {
   "cell_type": "code",
   "execution_count": 15,
   "metadata": {},
   "outputs": [
    {
     "name": "stdout",
     "output_type": "stream",
     "text": [
      "1 5 2 18.0\n",
      "1 5 3 0.0\n",
      "1 4 4 0.0\n",
      "1 4 2 148.0\n",
      "1 2 2 188.0\n",
      "1 2 3 0.0\n",
      "1 3 5 193.0\n",
      "1 3 4 0.0\n",
      "2 1 3 75.0\n",
      "2 1 5 0.0\n",
      "2 4 4 168.0\n",
      "2 4 2 0.0\n",
      "2 2 2 0.0\n",
      "2 2 3 193.0\n",
      "3 3 5 18.0\n",
      "3 3 4 0.0\n",
      "3 5 2 74.0\n",
      "3 5 3 0.0\n",
      "3 1 3 0.0\n",
      "3 1 5 179.0\n",
      "3 4 4 193.0\n",
      "3 4 2 0.0\n",
      "4 3 5 58.0\n",
      "4 3 4 7.105427357601002e-15\n",
      "4 2 2 0.0\n",
      "4 2 3 88.0\n",
      "4 5 2 0.0\n",
      "4 5 3 168.0\n",
      "4 4 4 179.0\n",
      "4 4 2 0.0\n",
      "5 4 4 81.0\n",
      "5 4 2 0.0\n",
      "5 6 2 0.0\n",
      "5 6 1 169.0\n",
      "min cost: 193.0\n"
     ]
    }
   ],
   "source": [
    "for var in ct:\n",
    "    var_value = ct[var].varValue\n",
    "    print( var[0],var[1],var[2] ,var_value)\n",
    "\n",
    "total_cost = pulp.value(model.objective)\n",
    "print ('min cost:',total_cost)"
   ]
  },
  {
   "cell_type": "code",
   "execution_count": 16,
   "metadata": {},
   "outputs": [
    {
     "name": "stdout",
     "output_type": "stream",
     "text": [
      "1 5 2 ---- 1.0\n",
      "1 5 3 ---- 0.0\n",
      "1 4 4 ---- 0.0\n",
      "1 4 2 ---- 1.0\n",
      "1 2 2 ---- 1.0\n",
      "1 2 3 ---- 0.0\n",
      "1 3 5 ---- 1.0\n",
      "1 3 4 ---- -0.0\n",
      "2 1 3 ---- 1.0\n",
      "2 1 5 ---- 0.0\n",
      "2 4 4 ---- 1.0\n",
      "2 4 2 ---- -0.0\n",
      "2 2 2 ---- -0.0\n",
      "2 2 3 ---- 1.0\n",
      "3 3 5 ---- 1.0\n",
      "3 3 4 ---- 0.0\n",
      "3 5 2 ---- 1.0\n",
      "3 5 3 ---- 0.0\n",
      "3 1 3 ---- -0.0\n",
      "3 1 5 ---- 1.0\n",
      "3 4 4 ---- 1.0\n",
      "3 4 2 ---- -0.0\n",
      "4 3 5 ---- 1.0\n",
      "4 3 4 ---- -0.0\n",
      "4 2 2 ---- -0.0\n",
      "4 2 3 ---- 1.0\n",
      "4 5 2 ---- -0.0\n",
      "4 5 3 ---- 1.0\n",
      "4 4 4 ---- 1.0\n",
      "4 4 2 ---- -0.0\n",
      "5 4 4 ---- 1.0\n",
      "5 4 2 ---- 0.0\n",
      "5 6 2 ---- 0.0\n",
      "5 6 1 ---- 1.0\n"
     ]
    }
   ],
   "source": [
    "for i in x:\n",
    "    print(i[0],i[1],i[2],'----',x[i].varValue)"
   ]
  },
  {
   "cell_type": "code",
   "execution_count": 23,
   "metadata": {},
   "outputs": [
    {
     "data": {
      "text/plain": [
       "28"
      ]
     },
     "execution_count": 23,
     "metadata": {},
     "output_type": "execute_result"
    }
   ],
   "source": [
    "148 %60"
   ]
  },
  {
   "cell_type": "code",
   "execution_count": 17,
   "metadata": {},
   "outputs": [],
   "source": [
    "import plotly.figure_factory as ff "
   ]
  },
  {
   "cell_type": "code",
   "execution_count": 24,
   "metadata": {},
   "outputs": [
    {
     "data": {
      "application/vnd.plotly.v1+json": {
       "config": {
        "plotlyServerURL": "https://plot.ly"
       },
       "data": [
        {
         "fill": "toself",
         "fillcolor": "rgb(214, 39, 40)",
         "hoverinfo": "name",
         "legendgroup": "rgb(214, 39, 40)",
         "mode": "none",
         "name": "Maquina 2",
         "type": "scatter",
         "x": [
          "2022-12-11 12:00:00",
          "2022-12-11 14:28:00",
          "2022-12-11 14:28:00",
          "2022-12-11 12:00:00"
         ],
         "y": [
          2.8,
          2.8,
          3.2,
          3.2
         ]
        },
        {
         "fill": "toself",
         "fillcolor": "rgb(255, 127, 14)",
         "hoverinfo": "name",
         "legendgroup": "rgb(255, 127, 14)",
         "mode": "none",
         "name": "Maquina 3",
         "type": "scatter",
         "x": [
          "2022-12-11 12:00:00",
          "2022-12-11 12:00:00",
          "2022-12-11 12:00:00",
          "2022-12-11 12:00:00"
         ],
         "y": [
          0.8,
          0.8,
          1.2,
          1.2
         ]
        },
        {
         "fill": "toself",
         "fillcolor": "rgb(31, 119, 180)",
         "hoverinfo": "name",
         "legendgroup": "rgb(31, 119, 180)",
         "mode": "none",
         "name": "Maquina 2",
         "type": "scatter",
         "x": [
          "2022-12-11 12:00:00",
          "2022-12-11 12:18:00",
          "2022-12-11 12:18:00",
          "2022-12-11 12:00:00"
         ],
         "y": [
          -0.2,
          -0.2,
          0.2,
          0.2
         ]
        },
        {
         "fill": "toself",
         "fillcolor": "rgb(44, 160, 44)",
         "hoverinfo": "name",
         "legendgroup": "rgb(44, 160, 44)",
         "mode": "none",
         "name": "Maquina 4",
         "type": "scatter",
         "x": [
          "2022-12-11 12:00:00",
          "2022-12-11 12:00:00",
          "2022-12-11 12:00:00",
          "2022-12-11 12:00:00"
         ],
         "y": [
          1.8,
          1.8,
          2.2,
          2.2
         ]
        },
        {
         "legendgroup": "rgb(214, 39, 40)",
         "marker": {
          "color": "rgb(214, 39, 40)",
          "opacity": 0,
          "size": 1
         },
         "mode": "markers",
         "name": "",
         "showlegend": false,
         "text": [
          null,
          null
         ],
         "type": "scatter",
         "x": [
          "2022-12-11 12:00:00",
          "2022-12-11 14:28:00"
         ],
         "y": [
          3,
          3
         ]
        },
        {
         "legendgroup": "rgb(255, 127, 14)",
         "marker": {
          "color": "rgb(255, 127, 14)",
          "opacity": 0,
          "size": 1
         },
         "mode": "markers",
         "name": "",
         "showlegend": false,
         "text": [
          null,
          null
         ],
         "type": "scatter",
         "x": [
          "2022-12-11 12:00:00",
          "2022-12-11 12:00:00"
         ],
         "y": [
          1,
          1
         ]
        },
        {
         "legendgroup": "rgb(31, 119, 180)",
         "marker": {
          "color": "rgb(31, 119, 180)",
          "opacity": 0,
          "size": 1
         },
         "mode": "markers",
         "name": "",
         "showlegend": false,
         "text": [
          null,
          null
         ],
         "type": "scatter",
         "x": [
          "2022-12-11 12:00:00",
          "2022-12-11 12:18:00"
         ],
         "y": [
          0,
          0
         ]
        },
        {
         "legendgroup": "rgb(44, 160, 44)",
         "marker": {
          "color": "rgb(44, 160, 44)",
          "opacity": 0,
          "size": 1
         },
         "mode": "markers",
         "name": "",
         "showlegend": false,
         "text": [
          null,
          null
         ],
         "type": "scatter",
         "x": [
          "2022-12-11 12:00:00",
          "2022-12-11 12:00:00"
         ],
         "y": [
          2,
          2
         ]
        }
       ],
       "layout": {
        "height": 600,
        "hovermode": "closest",
        "showlegend": false,
        "template": {
         "data": {
          "bar": [
           {
            "error_x": {
             "color": "#2a3f5f"
            },
            "error_y": {
             "color": "#2a3f5f"
            },
            "marker": {
             "line": {
              "color": "#E5ECF6",
              "width": 0.5
             },
             "pattern": {
              "fillmode": "overlay",
              "size": 10,
              "solidity": 0.2
             }
            },
            "type": "bar"
           }
          ],
          "barpolar": [
           {
            "marker": {
             "line": {
              "color": "#E5ECF6",
              "width": 0.5
             },
             "pattern": {
              "fillmode": "overlay",
              "size": 10,
              "solidity": 0.2
             }
            },
            "type": "barpolar"
           }
          ],
          "carpet": [
           {
            "aaxis": {
             "endlinecolor": "#2a3f5f",
             "gridcolor": "white",
             "linecolor": "white",
             "minorgridcolor": "white",
             "startlinecolor": "#2a3f5f"
            },
            "baxis": {
             "endlinecolor": "#2a3f5f",
             "gridcolor": "white",
             "linecolor": "white",
             "minorgridcolor": "white",
             "startlinecolor": "#2a3f5f"
            },
            "type": "carpet"
           }
          ],
          "choropleth": [
           {
            "colorbar": {
             "outlinewidth": 0,
             "ticks": ""
            },
            "type": "choropleth"
           }
          ],
          "contour": [
           {
            "colorbar": {
             "outlinewidth": 0,
             "ticks": ""
            },
            "colorscale": [
             [
              0,
              "#0d0887"
             ],
             [
              0.1111111111111111,
              "#46039f"
             ],
             [
              0.2222222222222222,
              "#7201a8"
             ],
             [
              0.3333333333333333,
              "#9c179e"
             ],
             [
              0.4444444444444444,
              "#bd3786"
             ],
             [
              0.5555555555555556,
              "#d8576b"
             ],
             [
              0.6666666666666666,
              "#ed7953"
             ],
             [
              0.7777777777777778,
              "#fb9f3a"
             ],
             [
              0.8888888888888888,
              "#fdca26"
             ],
             [
              1,
              "#f0f921"
             ]
            ],
            "type": "contour"
           }
          ],
          "contourcarpet": [
           {
            "colorbar": {
             "outlinewidth": 0,
             "ticks": ""
            },
            "type": "contourcarpet"
           }
          ],
          "heatmap": [
           {
            "colorbar": {
             "outlinewidth": 0,
             "ticks": ""
            },
            "colorscale": [
             [
              0,
              "#0d0887"
             ],
             [
              0.1111111111111111,
              "#46039f"
             ],
             [
              0.2222222222222222,
              "#7201a8"
             ],
             [
              0.3333333333333333,
              "#9c179e"
             ],
             [
              0.4444444444444444,
              "#bd3786"
             ],
             [
              0.5555555555555556,
              "#d8576b"
             ],
             [
              0.6666666666666666,
              "#ed7953"
             ],
             [
              0.7777777777777778,
              "#fb9f3a"
             ],
             [
              0.8888888888888888,
              "#fdca26"
             ],
             [
              1,
              "#f0f921"
             ]
            ],
            "type": "heatmap"
           }
          ],
          "heatmapgl": [
           {
            "colorbar": {
             "outlinewidth": 0,
             "ticks": ""
            },
            "colorscale": [
             [
              0,
              "#0d0887"
             ],
             [
              0.1111111111111111,
              "#46039f"
             ],
             [
              0.2222222222222222,
              "#7201a8"
             ],
             [
              0.3333333333333333,
              "#9c179e"
             ],
             [
              0.4444444444444444,
              "#bd3786"
             ],
             [
              0.5555555555555556,
              "#d8576b"
             ],
             [
              0.6666666666666666,
              "#ed7953"
             ],
             [
              0.7777777777777778,
              "#fb9f3a"
             ],
             [
              0.8888888888888888,
              "#fdca26"
             ],
             [
              1,
              "#f0f921"
             ]
            ],
            "type": "heatmapgl"
           }
          ],
          "histogram": [
           {
            "marker": {
             "pattern": {
              "fillmode": "overlay",
              "size": 10,
              "solidity": 0.2
             }
            },
            "type": "histogram"
           }
          ],
          "histogram2d": [
           {
            "colorbar": {
             "outlinewidth": 0,
             "ticks": ""
            },
            "colorscale": [
             [
              0,
              "#0d0887"
             ],
             [
              0.1111111111111111,
              "#46039f"
             ],
             [
              0.2222222222222222,
              "#7201a8"
             ],
             [
              0.3333333333333333,
              "#9c179e"
             ],
             [
              0.4444444444444444,
              "#bd3786"
             ],
             [
              0.5555555555555556,
              "#d8576b"
             ],
             [
              0.6666666666666666,
              "#ed7953"
             ],
             [
              0.7777777777777778,
              "#fb9f3a"
             ],
             [
              0.8888888888888888,
              "#fdca26"
             ],
             [
              1,
              "#f0f921"
             ]
            ],
            "type": "histogram2d"
           }
          ],
          "histogram2dcontour": [
           {
            "colorbar": {
             "outlinewidth": 0,
             "ticks": ""
            },
            "colorscale": [
             [
              0,
              "#0d0887"
             ],
             [
              0.1111111111111111,
              "#46039f"
             ],
             [
              0.2222222222222222,
              "#7201a8"
             ],
             [
              0.3333333333333333,
              "#9c179e"
             ],
             [
              0.4444444444444444,
              "#bd3786"
             ],
             [
              0.5555555555555556,
              "#d8576b"
             ],
             [
              0.6666666666666666,
              "#ed7953"
             ],
             [
              0.7777777777777778,
              "#fb9f3a"
             ],
             [
              0.8888888888888888,
              "#fdca26"
             ],
             [
              1,
              "#f0f921"
             ]
            ],
            "type": "histogram2dcontour"
           }
          ],
          "mesh3d": [
           {
            "colorbar": {
             "outlinewidth": 0,
             "ticks": ""
            },
            "type": "mesh3d"
           }
          ],
          "parcoords": [
           {
            "line": {
             "colorbar": {
              "outlinewidth": 0,
              "ticks": ""
             }
            },
            "type": "parcoords"
           }
          ],
          "pie": [
           {
            "automargin": true,
            "type": "pie"
           }
          ],
          "scatter": [
           {
            "fillpattern": {
             "fillmode": "overlay",
             "size": 10,
             "solidity": 0.2
            },
            "type": "scatter"
           }
          ],
          "scatter3d": [
           {
            "line": {
             "colorbar": {
              "outlinewidth": 0,
              "ticks": ""
             }
            },
            "marker": {
             "colorbar": {
              "outlinewidth": 0,
              "ticks": ""
             }
            },
            "type": "scatter3d"
           }
          ],
          "scattercarpet": [
           {
            "marker": {
             "colorbar": {
              "outlinewidth": 0,
              "ticks": ""
             }
            },
            "type": "scattercarpet"
           }
          ],
          "scattergeo": [
           {
            "marker": {
             "colorbar": {
              "outlinewidth": 0,
              "ticks": ""
             }
            },
            "type": "scattergeo"
           }
          ],
          "scattergl": [
           {
            "marker": {
             "colorbar": {
              "outlinewidth": 0,
              "ticks": ""
             }
            },
            "type": "scattergl"
           }
          ],
          "scattermapbox": [
           {
            "marker": {
             "colorbar": {
              "outlinewidth": 0,
              "ticks": ""
             }
            },
            "type": "scattermapbox"
           }
          ],
          "scatterpolar": [
           {
            "marker": {
             "colorbar": {
              "outlinewidth": 0,
              "ticks": ""
             }
            },
            "type": "scatterpolar"
           }
          ],
          "scatterpolargl": [
           {
            "marker": {
             "colorbar": {
              "outlinewidth": 0,
              "ticks": ""
             }
            },
            "type": "scatterpolargl"
           }
          ],
          "scatterternary": [
           {
            "marker": {
             "colorbar": {
              "outlinewidth": 0,
              "ticks": ""
             }
            },
            "type": "scatterternary"
           }
          ],
          "surface": [
           {
            "colorbar": {
             "outlinewidth": 0,
             "ticks": ""
            },
            "colorscale": [
             [
              0,
              "#0d0887"
             ],
             [
              0.1111111111111111,
              "#46039f"
             ],
             [
              0.2222222222222222,
              "#7201a8"
             ],
             [
              0.3333333333333333,
              "#9c179e"
             ],
             [
              0.4444444444444444,
              "#bd3786"
             ],
             [
              0.5555555555555556,
              "#d8576b"
             ],
             [
              0.6666666666666666,
              "#ed7953"
             ],
             [
              0.7777777777777778,
              "#fb9f3a"
             ],
             [
              0.8888888888888888,
              "#fdca26"
             ],
             [
              1,
              "#f0f921"
             ]
            ],
            "type": "surface"
           }
          ],
          "table": [
           {
            "cells": {
             "fill": {
              "color": "#EBF0F8"
             },
             "line": {
              "color": "white"
             }
            },
            "header": {
             "fill": {
              "color": "#C8D4E3"
             },
             "line": {
              "color": "white"
             }
            },
            "type": "table"
           }
          ]
         },
         "layout": {
          "annotationdefaults": {
           "arrowcolor": "#2a3f5f",
           "arrowhead": 0,
           "arrowwidth": 1
          },
          "autotypenumbers": "strict",
          "coloraxis": {
           "colorbar": {
            "outlinewidth": 0,
            "ticks": ""
           }
          },
          "colorscale": {
           "diverging": [
            [
             0,
             "#8e0152"
            ],
            [
             0.1,
             "#c51b7d"
            ],
            [
             0.2,
             "#de77ae"
            ],
            [
             0.3,
             "#f1b6da"
            ],
            [
             0.4,
             "#fde0ef"
            ],
            [
             0.5,
             "#f7f7f7"
            ],
            [
             0.6,
             "#e6f5d0"
            ],
            [
             0.7,
             "#b8e186"
            ],
            [
             0.8,
             "#7fbc41"
            ],
            [
             0.9,
             "#4d9221"
            ],
            [
             1,
             "#276419"
            ]
           ],
           "sequential": [
            [
             0,
             "#0d0887"
            ],
            [
             0.1111111111111111,
             "#46039f"
            ],
            [
             0.2222222222222222,
             "#7201a8"
            ],
            [
             0.3333333333333333,
             "#9c179e"
            ],
            [
             0.4444444444444444,
             "#bd3786"
            ],
            [
             0.5555555555555556,
             "#d8576b"
            ],
            [
             0.6666666666666666,
             "#ed7953"
            ],
            [
             0.7777777777777778,
             "#fb9f3a"
            ],
            [
             0.8888888888888888,
             "#fdca26"
            ],
            [
             1,
             "#f0f921"
            ]
           ],
           "sequentialminus": [
            [
             0,
             "#0d0887"
            ],
            [
             0.1111111111111111,
             "#46039f"
            ],
            [
             0.2222222222222222,
             "#7201a8"
            ],
            [
             0.3333333333333333,
             "#9c179e"
            ],
            [
             0.4444444444444444,
             "#bd3786"
            ],
            [
             0.5555555555555556,
             "#d8576b"
            ],
            [
             0.6666666666666666,
             "#ed7953"
            ],
            [
             0.7777777777777778,
             "#fb9f3a"
            ],
            [
             0.8888888888888888,
             "#fdca26"
            ],
            [
             1,
             "#f0f921"
            ]
           ]
          },
          "colorway": [
           "#636efa",
           "#EF553B",
           "#00cc96",
           "#ab63fa",
           "#FFA15A",
           "#19d3f3",
           "#FF6692",
           "#B6E880",
           "#FF97FF",
           "#FECB52"
          ],
          "font": {
           "color": "#2a3f5f"
          },
          "geo": {
           "bgcolor": "white",
           "lakecolor": "white",
           "landcolor": "#E5ECF6",
           "showlakes": true,
           "showland": true,
           "subunitcolor": "white"
          },
          "hoverlabel": {
           "align": "left"
          },
          "hovermode": "closest",
          "mapbox": {
           "style": "light"
          },
          "paper_bgcolor": "white",
          "plot_bgcolor": "#E5ECF6",
          "polar": {
           "angularaxis": {
            "gridcolor": "white",
            "linecolor": "white",
            "ticks": ""
           },
           "bgcolor": "#E5ECF6",
           "radialaxis": {
            "gridcolor": "white",
            "linecolor": "white",
            "ticks": ""
           }
          },
          "scene": {
           "xaxis": {
            "backgroundcolor": "#E5ECF6",
            "gridcolor": "white",
            "gridwidth": 2,
            "linecolor": "white",
            "showbackground": true,
            "ticks": "",
            "zerolinecolor": "white"
           },
           "yaxis": {
            "backgroundcolor": "#E5ECF6",
            "gridcolor": "white",
            "gridwidth": 2,
            "linecolor": "white",
            "showbackground": true,
            "ticks": "",
            "zerolinecolor": "white"
           },
           "zaxis": {
            "backgroundcolor": "#E5ECF6",
            "gridcolor": "white",
            "gridwidth": 2,
            "linecolor": "white",
            "showbackground": true,
            "ticks": "",
            "zerolinecolor": "white"
           }
          },
          "shapedefaults": {
           "line": {
            "color": "#2a3f5f"
           }
          },
          "ternary": {
           "aaxis": {
            "gridcolor": "white",
            "linecolor": "white",
            "ticks": ""
           },
           "baxis": {
            "gridcolor": "white",
            "linecolor": "white",
            "ticks": ""
           },
           "bgcolor": "#E5ECF6",
           "caxis": {
            "gridcolor": "white",
            "linecolor": "white",
            "ticks": ""
           }
          },
          "title": {
           "x": 0.05
          },
          "xaxis": {
           "automargin": true,
           "gridcolor": "white",
           "linecolor": "white",
           "ticks": "",
           "title": {
            "standoff": 15
           },
           "zerolinecolor": "white",
           "zerolinewidth": 2
          },
          "yaxis": {
           "automargin": true,
           "gridcolor": "white",
           "linecolor": "white",
           "ticks": "",
           "title": {
            "standoff": 15
           },
           "zerolinecolor": "white",
           "zerolinewidth": 2
          }
         }
        },
        "title": {
         "text": "Gantt Chart"
        },
        "xaxis": {
         "rangeselector": {
          "buttons": [
           {
            "count": 7,
            "label": "1w",
            "step": "day",
            "stepmode": "backward"
           },
           {
            "count": 1,
            "label": "1m",
            "step": "month",
            "stepmode": "backward"
           },
           {
            "count": 6,
            "label": "6m",
            "step": "month",
            "stepmode": "backward"
           },
           {
            "count": 1,
            "label": "YTD",
            "step": "year",
            "stepmode": "todate"
           },
           {
            "count": 1,
            "label": "1y",
            "step": "year",
            "stepmode": "backward"
           },
           {
            "step": "all"
           }
          ]
         },
         "showgrid": false,
         "type": "date",
         "zeroline": false
        },
        "yaxis": {
         "autorange": false,
         "range": [
          -1,
          5
         ],
         "showgrid": false,
         "ticktext": [
          "Maquina 2",
          "Maquina 3",
          "Maquina 4",
          "Maquina 2"
         ],
         "tickvals": [
          0,
          1,
          2,
          3
         ],
         "zeroline": false
        }
       }
      }
     },
     "metadata": {},
     "output_type": "display_data"
    }
   ],
   "source": [
    "df = [\n",
    "    dict(Task=\"Maquina 2\", Start='2022-12-11 12:00:00', Finish='2022-12-11 12:18:00', Resource = \"Job 1\"),\n",
    "    dict(Task=\"Maquina 3\", Start='2022-12-11 12:00:00', Finish='2022-12-11 12:00:00', Resource = \"Job 1\"),\n",
    "    dict(Task=\"Maquina 4\", Start='2022-12-11 12:00:00', Finish='2022-12-11 12:00:00', Resource = \"Job 1\"),\n",
    "    dict(Task=\"Maquina 2\", Start='2022-12-11 12:00:00', Finish='2022-12-11 14:28:00', Resource = \"Job 1\"),\n",
    "    ]\n",
    "fig = ff.create_gantt(df)\n",
    "fig.show()"
   ]
  },
  {
   "cell_type": "code",
   "execution_count": 33,
   "metadata": {},
   "outputs": [
    {
     "data": {
      "application/vnd.plotly.v1+json": {
       "config": {
        "plotlyServerURL": "https://plot.ly"
       },
       "data": [
        {
         "fill": "toself",
         "fillcolor": "rgb(148, 103, 189)",
         "hoverinfo": "name",
         "legendgroup": "rgb(148, 103, 189)",
         "mode": "none",
         "name": "Job 5",
         "showlegend": true,
         "type": "scatter",
         "x": [
          "2022-12-11 0:01:21",
          "2022-12-11 0:02:49",
          "2022-12-11 0:02:49",
          "2022-12-11 0:01:21",
          "2022-12-11 0:01:21",
          "2022-12-11 0:00:17",
          "2022-12-11 0:01:21",
          "2022-12-11 0:01:21",
          "2022-12-11 0:00:17"
         ],
         "y": [
          3.8,
          3.8,
          4.2,
          4.2,
          null,
          0.8,
          0.8,
          1.2,
          1.2
         ]
        },
        {
         "fill": "toself",
         "fillcolor": "rgb(214, 39, 40)",
         "hoverinfo": "name",
         "legendgroup": "rgb(214, 39, 40)",
         "mode": "none",
         "name": "Job 4",
         "showlegend": true,
         "type": "scatter",
         "x": [
          "2022-12-11 0:01:15",
          "2022-12-11 0:01:28",
          "2022-12-11 0:01:28",
          "2022-12-11 0:01:15",
          "2022-12-11 0:01:15",
          "2022-12-11 0:01:28",
          "2022-12-11 0:02:48",
          "2022-12-11 0:02:48",
          "2022-12-11 0:01:28",
          "2022-12-11 0:01:28",
          "2022-12-11 0:02:48",
          "2022-12-11 0:02:59",
          "2022-12-11 0:02:59",
          "2022-12-11 0:02:48",
          "2022-12-11 0:02:48",
          "2022-12-11 0:00:18",
          "2022-12-11 0:00:58",
          "2022-12-11 0:00:58",
          "2022-12-11 0:00:18"
         ],
         "y": [
          1.8,
          1.8,
          2.2,
          2.2,
          null,
          1.8,
          1.8,
          2.2,
          2.2,
          null,
          0.8,
          0.8,
          1.2,
          1.2,
          null,
          -0.2,
          -0.2,
          0.2,
          0.2
         ]
        },
        {
         "fill": "toself",
         "fillcolor": "rgb(255, 127, 14)",
         "hoverinfo": "name",
         "legendgroup": "rgb(255, 127, 14)",
         "mode": "none",
         "name": "Job 2",
         "showlegend": true,
         "type": "scatter",
         "x": [
          "2022-12-11 0:00:07",
          "2022-12-11 0:01:15",
          "2022-12-11 0:01:15",
          "2022-12-11 0:00:07",
          "2022-12-11 0:00:07",
          "2022-12-11 0:02:58",
          "2022-12-11 0:03:13",
          "2022-12-11 0:03:13",
          "2022-12-11 0:02:58",
          "2022-12-11 0:02:58",
          "2022-12-11 0:01:21",
          "2022-12-11 0:02:48",
          "2022-12-11 0:02:48",
          "2022-12-11 0:01:21"
         ],
         "y": [
          1.8,
          1.8,
          2.2,
          2.2,
          null,
          1.8,
          1.8,
          2.2,
          2.2,
          null,
          0.8,
          0.8,
          1.2,
          1.2
         ]
        },
        {
         "fill": "toself",
         "fillcolor": "rgb(31, 119, 180)",
         "hoverinfo": "name",
         "legendgroup": "rgb(31, 119, 180)",
         "mode": "none",
         "name": "Job 1",
         "showlegend": true,
         "type": "scatter",
         "x": [
          "2022-12-11 0:00:00",
          "2022-12-11 0:00:18",
          "2022-12-11 0:00:18",
          "2022-12-11 0:00:00",
          "2022-12-11 0:00:00",
          "2022-12-11 0:01:14",
          "2022-12-11 0:02:28",
          "2022-12-11 0:02:28",
          "2022-12-11 0:01:14",
          "2022-12-11 0:01:14",
          "2022-12-11 0:02:28",
          "2022-12-11 0:03:08",
          "2022-12-11 0:03:08",
          "2022-12-11 0:02:28",
          "2022-12-11 0:02:28",
          "2022-12-11 0:03:08",
          "2022-12-11 0:03:13",
          "2022-12-11 0:03:13",
          "2022-12-11 0:03:08"
         ],
         "y": [
          2.8,
          2.8,
          3.2,
          3.2,
          null,
          2.8,
          2.8,
          3.2,
          3.2,
          null,
          2.8,
          2.8,
          3.2,
          3.2,
          null,
          -0.2,
          -0.2,
          0.2,
          0.2
         ]
        },
        {
         "fill": "toself",
         "fillcolor": "rgb(44, 160, 44)",
         "hoverinfo": "name",
         "legendgroup": "rgb(44, 160, 44)",
         "mode": "none",
         "name": "Job 3",
         "showlegend": true,
         "type": "scatter",
         "x": [
          "2022-12-11 0:00:18",
          "2022-12-11 0:01:14",
          "2022-12-11 0:01:14",
          "2022-12-11 0:00:18",
          "2022-12-11 0:00:18",
          "2022-12-11 0:02:59",
          "2022-12-11 0:03:13",
          "2022-12-11 0:03:13",
          "2022-12-11 0:02:59",
          "2022-12-11 0:02:59",
          "2022-12-11 0:00:00",
          "2022-12-11 0:00:18",
          "2022-12-11 0:00:18",
          "2022-12-11 0:00:00",
          "2022-12-11 0:00:00",
          "2022-12-11 0:01:45",
          "2022-12-11 0:02:59",
          "2022-12-11 0:02:59",
          "2022-12-11 0:01:45"
         ],
         "y": [
          2.8,
          2.8,
          3.2,
          3.2,
          null,
          0.8,
          0.8,
          1.2,
          1.2,
          null,
          -0.2,
          -0.2,
          0.2,
          0.2,
          null,
          -0.2,
          -0.2,
          0.2,
          0.2
         ]
        },
        {
         "legendgroup": "rgb(148, 103, 189)",
         "marker": {
          "color": "rgb(148, 103, 189)",
          "opacity": 0,
          "size": 1
         },
         "mode": "markers",
         "name": "",
         "showlegend": false,
         "text": [
          null,
          null,
          null,
          null
         ],
         "type": "scatter",
         "x": [
          "2022-12-11 0:01:21",
          "2022-12-11 0:02:49",
          "2022-12-11 0:00:17",
          "2022-12-11 0:01:21"
         ],
         "y": [
          4,
          4,
          1,
          1
         ]
        },
        {
         "legendgroup": "rgb(214, 39, 40)",
         "marker": {
          "color": "rgb(214, 39, 40)",
          "opacity": 0,
          "size": 1
         },
         "mode": "markers",
         "name": "",
         "showlegend": false,
         "text": [
          null,
          null,
          null,
          null,
          null,
          null,
          null,
          null
         ],
         "type": "scatter",
         "x": [
          "2022-12-11 0:01:15",
          "2022-12-11 0:01:28",
          "2022-12-11 0:01:28",
          "2022-12-11 0:02:48",
          "2022-12-11 0:02:48",
          "2022-12-11 0:02:59",
          "2022-12-11 0:00:18",
          "2022-12-11 0:00:58"
         ],
         "y": [
          2,
          2,
          2,
          2,
          1,
          1,
          0,
          0
         ]
        },
        {
         "legendgroup": "rgb(255, 127, 14)",
         "marker": {
          "color": "rgb(255, 127, 14)",
          "opacity": 0,
          "size": 1
         },
         "mode": "markers",
         "name": "",
         "showlegend": false,
         "text": [
          null,
          null,
          null,
          null,
          null,
          null
         ],
         "type": "scatter",
         "x": [
          "2022-12-11 0:00:07",
          "2022-12-11 0:01:15",
          "2022-12-11 0:02:58",
          "2022-12-11 0:03:13",
          "2022-12-11 0:01:21",
          "2022-12-11 0:02:48"
         ],
         "y": [
          2,
          2,
          2,
          2,
          1,
          1
         ]
        },
        {
         "legendgroup": "rgb(31, 119, 180)",
         "marker": {
          "color": "rgb(31, 119, 180)",
          "opacity": 0,
          "size": 1
         },
         "mode": "markers",
         "name": "",
         "showlegend": false,
         "text": [
          null,
          null,
          null,
          null,
          null,
          null,
          null,
          null
         ],
         "type": "scatter",
         "x": [
          "2022-12-11 0:00:00",
          "2022-12-11 0:00:18",
          "2022-12-11 0:01:14",
          "2022-12-11 0:02:28",
          "2022-12-11 0:02:28",
          "2022-12-11 0:03:08",
          "2022-12-11 0:03:08",
          "2022-12-11 0:03:13"
         ],
         "y": [
          3,
          3,
          3,
          3,
          3,
          3,
          0,
          0
         ]
        },
        {
         "legendgroup": "rgb(44, 160, 44)",
         "marker": {
          "color": "rgb(44, 160, 44)",
          "opacity": 0,
          "size": 1
         },
         "mode": "markers",
         "name": "",
         "showlegend": false,
         "text": [
          null,
          null,
          null,
          null,
          null,
          null,
          null,
          null
         ],
         "type": "scatter",
         "x": [
          "2022-12-11 0:00:18",
          "2022-12-11 0:01:14",
          "2022-12-11 0:02:59",
          "2022-12-11 0:03:13",
          "2022-12-11 0:00:00",
          "2022-12-11 0:00:18",
          "2022-12-11 0:01:45",
          "2022-12-11 0:02:59"
         ],
         "y": [
          3,
          3,
          1,
          1,
          0,
          0,
          0,
          0
         ]
        }
       ],
       "layout": {
        "height": 600,
        "hovermode": "closest",
        "showlegend": true,
        "template": {
         "data": {
          "bar": [
           {
            "error_x": {
             "color": "#2a3f5f"
            },
            "error_y": {
             "color": "#2a3f5f"
            },
            "marker": {
             "line": {
              "color": "#E5ECF6",
              "width": 0.5
             },
             "pattern": {
              "fillmode": "overlay",
              "size": 10,
              "solidity": 0.2
             }
            },
            "type": "bar"
           }
          ],
          "barpolar": [
           {
            "marker": {
             "line": {
              "color": "#E5ECF6",
              "width": 0.5
             },
             "pattern": {
              "fillmode": "overlay",
              "size": 10,
              "solidity": 0.2
             }
            },
            "type": "barpolar"
           }
          ],
          "carpet": [
           {
            "aaxis": {
             "endlinecolor": "#2a3f5f",
             "gridcolor": "white",
             "linecolor": "white",
             "minorgridcolor": "white",
             "startlinecolor": "#2a3f5f"
            },
            "baxis": {
             "endlinecolor": "#2a3f5f",
             "gridcolor": "white",
             "linecolor": "white",
             "minorgridcolor": "white",
             "startlinecolor": "#2a3f5f"
            },
            "type": "carpet"
           }
          ],
          "choropleth": [
           {
            "colorbar": {
             "outlinewidth": 0,
             "ticks": ""
            },
            "type": "choropleth"
           }
          ],
          "contour": [
           {
            "colorbar": {
             "outlinewidth": 0,
             "ticks": ""
            },
            "colorscale": [
             [
              0,
              "#0d0887"
             ],
             [
              0.1111111111111111,
              "#46039f"
             ],
             [
              0.2222222222222222,
              "#7201a8"
             ],
             [
              0.3333333333333333,
              "#9c179e"
             ],
             [
              0.4444444444444444,
              "#bd3786"
             ],
             [
              0.5555555555555556,
              "#d8576b"
             ],
             [
              0.6666666666666666,
              "#ed7953"
             ],
             [
              0.7777777777777778,
              "#fb9f3a"
             ],
             [
              0.8888888888888888,
              "#fdca26"
             ],
             [
              1,
              "#f0f921"
             ]
            ],
            "type": "contour"
           }
          ],
          "contourcarpet": [
           {
            "colorbar": {
             "outlinewidth": 0,
             "ticks": ""
            },
            "type": "contourcarpet"
           }
          ],
          "heatmap": [
           {
            "colorbar": {
             "outlinewidth": 0,
             "ticks": ""
            },
            "colorscale": [
             [
              0,
              "#0d0887"
             ],
             [
              0.1111111111111111,
              "#46039f"
             ],
             [
              0.2222222222222222,
              "#7201a8"
             ],
             [
              0.3333333333333333,
              "#9c179e"
             ],
             [
              0.4444444444444444,
              "#bd3786"
             ],
             [
              0.5555555555555556,
              "#d8576b"
             ],
             [
              0.6666666666666666,
              "#ed7953"
             ],
             [
              0.7777777777777778,
              "#fb9f3a"
             ],
             [
              0.8888888888888888,
              "#fdca26"
             ],
             [
              1,
              "#f0f921"
             ]
            ],
            "type": "heatmap"
           }
          ],
          "heatmapgl": [
           {
            "colorbar": {
             "outlinewidth": 0,
             "ticks": ""
            },
            "colorscale": [
             [
              0,
              "#0d0887"
             ],
             [
              0.1111111111111111,
              "#46039f"
             ],
             [
              0.2222222222222222,
              "#7201a8"
             ],
             [
              0.3333333333333333,
              "#9c179e"
             ],
             [
              0.4444444444444444,
              "#bd3786"
             ],
             [
              0.5555555555555556,
              "#d8576b"
             ],
             [
              0.6666666666666666,
              "#ed7953"
             ],
             [
              0.7777777777777778,
              "#fb9f3a"
             ],
             [
              0.8888888888888888,
              "#fdca26"
             ],
             [
              1,
              "#f0f921"
             ]
            ],
            "type": "heatmapgl"
           }
          ],
          "histogram": [
           {
            "marker": {
             "pattern": {
              "fillmode": "overlay",
              "size": 10,
              "solidity": 0.2
             }
            },
            "type": "histogram"
           }
          ],
          "histogram2d": [
           {
            "colorbar": {
             "outlinewidth": 0,
             "ticks": ""
            },
            "colorscale": [
             [
              0,
              "#0d0887"
             ],
             [
              0.1111111111111111,
              "#46039f"
             ],
             [
              0.2222222222222222,
              "#7201a8"
             ],
             [
              0.3333333333333333,
              "#9c179e"
             ],
             [
              0.4444444444444444,
              "#bd3786"
             ],
             [
              0.5555555555555556,
              "#d8576b"
             ],
             [
              0.6666666666666666,
              "#ed7953"
             ],
             [
              0.7777777777777778,
              "#fb9f3a"
             ],
             [
              0.8888888888888888,
              "#fdca26"
             ],
             [
              1,
              "#f0f921"
             ]
            ],
            "type": "histogram2d"
           }
          ],
          "histogram2dcontour": [
           {
            "colorbar": {
             "outlinewidth": 0,
             "ticks": ""
            },
            "colorscale": [
             [
              0,
              "#0d0887"
             ],
             [
              0.1111111111111111,
              "#46039f"
             ],
             [
              0.2222222222222222,
              "#7201a8"
             ],
             [
              0.3333333333333333,
              "#9c179e"
             ],
             [
              0.4444444444444444,
              "#bd3786"
             ],
             [
              0.5555555555555556,
              "#d8576b"
             ],
             [
              0.6666666666666666,
              "#ed7953"
             ],
             [
              0.7777777777777778,
              "#fb9f3a"
             ],
             [
              0.8888888888888888,
              "#fdca26"
             ],
             [
              1,
              "#f0f921"
             ]
            ],
            "type": "histogram2dcontour"
           }
          ],
          "mesh3d": [
           {
            "colorbar": {
             "outlinewidth": 0,
             "ticks": ""
            },
            "type": "mesh3d"
           }
          ],
          "parcoords": [
           {
            "line": {
             "colorbar": {
              "outlinewidth": 0,
              "ticks": ""
             }
            },
            "type": "parcoords"
           }
          ],
          "pie": [
           {
            "automargin": true,
            "type": "pie"
           }
          ],
          "scatter": [
           {
            "fillpattern": {
             "fillmode": "overlay",
             "size": 10,
             "solidity": 0.2
            },
            "type": "scatter"
           }
          ],
          "scatter3d": [
           {
            "line": {
             "colorbar": {
              "outlinewidth": 0,
              "ticks": ""
             }
            },
            "marker": {
             "colorbar": {
              "outlinewidth": 0,
              "ticks": ""
             }
            },
            "type": "scatter3d"
           }
          ],
          "scattercarpet": [
           {
            "marker": {
             "colorbar": {
              "outlinewidth": 0,
              "ticks": ""
             }
            },
            "type": "scattercarpet"
           }
          ],
          "scattergeo": [
           {
            "marker": {
             "colorbar": {
              "outlinewidth": 0,
              "ticks": ""
             }
            },
            "type": "scattergeo"
           }
          ],
          "scattergl": [
           {
            "marker": {
             "colorbar": {
              "outlinewidth": 0,
              "ticks": ""
             }
            },
            "type": "scattergl"
           }
          ],
          "scattermapbox": [
           {
            "marker": {
             "colorbar": {
              "outlinewidth": 0,
              "ticks": ""
             }
            },
            "type": "scattermapbox"
           }
          ],
          "scatterpolar": [
           {
            "marker": {
             "colorbar": {
              "outlinewidth": 0,
              "ticks": ""
             }
            },
            "type": "scatterpolar"
           }
          ],
          "scatterpolargl": [
           {
            "marker": {
             "colorbar": {
              "outlinewidth": 0,
              "ticks": ""
             }
            },
            "type": "scatterpolargl"
           }
          ],
          "scatterternary": [
           {
            "marker": {
             "colorbar": {
              "outlinewidth": 0,
              "ticks": ""
             }
            },
            "type": "scatterternary"
           }
          ],
          "surface": [
           {
            "colorbar": {
             "outlinewidth": 0,
             "ticks": ""
            },
            "colorscale": [
             [
              0,
              "#0d0887"
             ],
             [
              0.1111111111111111,
              "#46039f"
             ],
             [
              0.2222222222222222,
              "#7201a8"
             ],
             [
              0.3333333333333333,
              "#9c179e"
             ],
             [
              0.4444444444444444,
              "#bd3786"
             ],
             [
              0.5555555555555556,
              "#d8576b"
             ],
             [
              0.6666666666666666,
              "#ed7953"
             ],
             [
              0.7777777777777778,
              "#fb9f3a"
             ],
             [
              0.8888888888888888,
              "#fdca26"
             ],
             [
              1,
              "#f0f921"
             ]
            ],
            "type": "surface"
           }
          ],
          "table": [
           {
            "cells": {
             "fill": {
              "color": "#EBF0F8"
             },
             "line": {
              "color": "white"
             }
            },
            "header": {
             "fill": {
              "color": "#C8D4E3"
             },
             "line": {
              "color": "white"
             }
            },
            "type": "table"
           }
          ]
         },
         "layout": {
          "annotationdefaults": {
           "arrowcolor": "#2a3f5f",
           "arrowhead": 0,
           "arrowwidth": 1
          },
          "autotypenumbers": "strict",
          "coloraxis": {
           "colorbar": {
            "outlinewidth": 0,
            "ticks": ""
           }
          },
          "colorscale": {
           "diverging": [
            [
             0,
             "#8e0152"
            ],
            [
             0.1,
             "#c51b7d"
            ],
            [
             0.2,
             "#de77ae"
            ],
            [
             0.3,
             "#f1b6da"
            ],
            [
             0.4,
             "#fde0ef"
            ],
            [
             0.5,
             "#f7f7f7"
            ],
            [
             0.6,
             "#e6f5d0"
            ],
            [
             0.7,
             "#b8e186"
            ],
            [
             0.8,
             "#7fbc41"
            ],
            [
             0.9,
             "#4d9221"
            ],
            [
             1,
             "#276419"
            ]
           ],
           "sequential": [
            [
             0,
             "#0d0887"
            ],
            [
             0.1111111111111111,
             "#46039f"
            ],
            [
             0.2222222222222222,
             "#7201a8"
            ],
            [
             0.3333333333333333,
             "#9c179e"
            ],
            [
             0.4444444444444444,
             "#bd3786"
            ],
            [
             0.5555555555555556,
             "#d8576b"
            ],
            [
             0.6666666666666666,
             "#ed7953"
            ],
            [
             0.7777777777777778,
             "#fb9f3a"
            ],
            [
             0.8888888888888888,
             "#fdca26"
            ],
            [
             1,
             "#f0f921"
            ]
           ],
           "sequentialminus": [
            [
             0,
             "#0d0887"
            ],
            [
             0.1111111111111111,
             "#46039f"
            ],
            [
             0.2222222222222222,
             "#7201a8"
            ],
            [
             0.3333333333333333,
             "#9c179e"
            ],
            [
             0.4444444444444444,
             "#bd3786"
            ],
            [
             0.5555555555555556,
             "#d8576b"
            ],
            [
             0.6666666666666666,
             "#ed7953"
            ],
            [
             0.7777777777777778,
             "#fb9f3a"
            ],
            [
             0.8888888888888888,
             "#fdca26"
            ],
            [
             1,
             "#f0f921"
            ]
           ]
          },
          "colorway": [
           "#636efa",
           "#EF553B",
           "#00cc96",
           "#ab63fa",
           "#FFA15A",
           "#19d3f3",
           "#FF6692",
           "#B6E880",
           "#FF97FF",
           "#FECB52"
          ],
          "font": {
           "color": "#2a3f5f"
          },
          "geo": {
           "bgcolor": "white",
           "lakecolor": "white",
           "landcolor": "#E5ECF6",
           "showlakes": true,
           "showland": true,
           "subunitcolor": "white"
          },
          "hoverlabel": {
           "align": "left"
          },
          "hovermode": "closest",
          "mapbox": {
           "style": "light"
          },
          "paper_bgcolor": "white",
          "plot_bgcolor": "#E5ECF6",
          "polar": {
           "angularaxis": {
            "gridcolor": "white",
            "linecolor": "white",
            "ticks": ""
           },
           "bgcolor": "#E5ECF6",
           "radialaxis": {
            "gridcolor": "white",
            "linecolor": "white",
            "ticks": ""
           }
          },
          "scene": {
           "xaxis": {
            "backgroundcolor": "#E5ECF6",
            "gridcolor": "white",
            "gridwidth": 2,
            "linecolor": "white",
            "showbackground": true,
            "ticks": "",
            "zerolinecolor": "white"
           },
           "yaxis": {
            "backgroundcolor": "#E5ECF6",
            "gridcolor": "white",
            "gridwidth": 2,
            "linecolor": "white",
            "showbackground": true,
            "ticks": "",
            "zerolinecolor": "white"
           },
           "zaxis": {
            "backgroundcolor": "#E5ECF6",
            "gridcolor": "white",
            "gridwidth": 2,
            "linecolor": "white",
            "showbackground": true,
            "ticks": "",
            "zerolinecolor": "white"
           }
          },
          "shapedefaults": {
           "line": {
            "color": "#2a3f5f"
           }
          },
          "ternary": {
           "aaxis": {
            "gridcolor": "white",
            "linecolor": "white",
            "ticks": ""
           },
           "baxis": {
            "gridcolor": "white",
            "linecolor": "white",
            "ticks": ""
           },
           "bgcolor": "#E5ECF6",
           "caxis": {
            "gridcolor": "white",
            "linecolor": "white",
            "ticks": ""
           }
          },
          "title": {
           "x": 0.05
          },
          "xaxis": {
           "automargin": true,
           "gridcolor": "white",
           "linecolor": "white",
           "ticks": "",
           "title": {
            "standoff": 15
           },
           "zerolinecolor": "white",
           "zerolinewidth": 2
          },
          "yaxis": {
           "automargin": true,
           "gridcolor": "white",
           "linecolor": "white",
           "ticks": "",
           "title": {
            "standoff": 15
           },
           "zerolinecolor": "white",
           "zerolinewidth": 2
          }
         }
        },
        "title": {
         "text": "Agendamento das Prodruções de linguiças"
        },
        "xaxis": {
         "rangeselector": {
          "buttons": [
           {
            "count": 7,
            "label": "1w",
            "step": "day",
            "stepmode": "backward"
           },
           {
            "count": 1,
            "label": "1m",
            "step": "month",
            "stepmode": "backward"
           },
           {
            "count": 6,
            "label": "6m",
            "step": "month",
            "stepmode": "backward"
           },
           {
            "count": 1,
            "label": "YTD",
            "step": "year",
            "stepmode": "todate"
           },
           {
            "count": 1,
            "label": "1y",
            "step": "year",
            "stepmode": "backward"
           },
           {
            "step": "all"
           }
          ]
         },
         "showgrid": true,
         "type": "date",
         "zeroline": false
        },
        "yaxis": {
         "autorange": false,
         "range": [
          -1,
          6
         ],
         "showgrid": false,
         "ticktext": [
          "Maquina 5",
          "Maquina 4",
          "Maquina 3",
          "Maquina 2",
          "Maquina 1"
         ],
         "tickvals": [
          0,
          1,
          2,
          3,
          4
         ],
         "zeroline": false
        }
       }
      }
     },
     "metadata": {},
     "output_type": "display_data"
    }
   ],
   "source": [
    "import pandas as pd\n",
    "import plotly.figure_factory as ff\n",
    "import datetime\n",
    "from operator import itemgetter\n",
    "\n",
    "\n",
    "m_keys=[j+1 for j in range(6)]\n",
    "j_keys=[j for j in range(5)]\n",
    "index_record=[]\n",
    "j_record={}\n",
    "\n",
    "for var in x:\n",
    "    if x[var].varValue==1:\n",
    "        start_time=str(datetime.timedelta(seconds=st[var[0],var[1],var[2]].varValue)) # convert seconds to hours, minutes and seconds\n",
    "        end_time=str(datetime.timedelta(seconds=ct[var[0],var[1],var[2]].varValue))\n",
    "        j_record[(var[0],var[1],var[2])]=[start_time,end_time]\n",
    "        index_record.append([var[0],var[1],var[2]])\n",
    "index_record.sort(key=itemgetter(2))\n",
    "        \n",
    "\n",
    "df=[]\n",
    "for i in index_record:\n",
    "    df.append(dict(Task='Maquina %s'%(i[2]), Start='2022-12-11 %s'%(str(j_record[(i[0],i[1],i[2])][0])), Finish='2022-12-11 %s'%(str(j_record[(i[0],i[1],i[2])][1])),Resource='Job %s'%(i[0])))\n",
    "    \n",
    "fig = ff.create_gantt(df, index_col='Resource', show_colorbar=True, group_tasks=True, showgrid_x=True, title='Agendamento das Prodruções de linguiças')\n",
    "# fig.add_vline(x=\"2022-12-11 03:13:00\")\n",
    "fig"
   ]
  },
  {
   "cell_type": "code",
   "execution_count": 44,
   "metadata": {},
   "outputs": [
    {
     "data": {
      "application/vnd.plotly.v1+json": {
       "config": {
        "plotlyServerURL": "https://plot.ly"
       },
       "data": [
        {
         "fill": "toself",
         "fillcolor": "rgb(148, 103, 189)",
         "hoverinfo": "name",
         "legendgroup": "rgb(148, 103, 189)",
         "mode": "none",
         "name": "Job 5",
         "showlegend": true,
         "type": "scatter",
         "x": [
          "2022-12-11 0:01:21",
          "2022-12-11 0:02:49",
          "2022-12-11 0:02:49",
          "2022-12-11 0:01:21",
          "2022-12-11 0:01:21",
          "2022-12-11 0:00:17",
          "2022-12-11 0:01:21",
          "2022-12-11 0:01:21",
          "2022-12-11 0:00:17"
         ],
         "y": [
          3.8,
          3.8,
          4.2,
          4.2,
          null,
          0.8,
          0.8,
          1.2,
          1.2
         ]
        },
        {
         "fill": "toself",
         "fillcolor": "rgb(214, 39, 40)",
         "hoverinfo": "name",
         "legendgroup": "rgb(214, 39, 40)",
         "mode": "none",
         "name": "Job 4",
         "showlegend": true,
         "type": "scatter",
         "x": [
          "2022-12-11 0:01:15",
          "2022-12-11 0:01:28",
          "2022-12-11 0:01:28",
          "2022-12-11 0:01:15",
          "2022-12-11 0:01:15",
          "2022-12-11 0:01:28",
          "2022-12-11 0:02:48",
          "2022-12-11 0:02:48",
          "2022-12-11 0:01:28",
          "2022-12-11 0:01:28",
          "2022-12-11 0:02:48",
          "2022-12-11 0:02:59",
          "2022-12-11 0:02:59",
          "2022-12-11 0:02:48",
          "2022-12-11 0:02:48",
          "2022-12-11 0:00:18",
          "2022-12-11 0:00:58",
          "2022-12-11 0:00:58",
          "2022-12-11 0:00:18"
         ],
         "y": [
          1.8,
          1.8,
          2.2,
          2.2,
          null,
          1.8,
          1.8,
          2.2,
          2.2,
          null,
          0.8,
          0.8,
          1.2,
          1.2,
          null,
          -0.2,
          -0.2,
          0.2,
          0.2
         ]
        },
        {
         "fill": "toself",
         "fillcolor": "rgb(255, 127, 14)",
         "hoverinfo": "name",
         "legendgroup": "rgb(255, 127, 14)",
         "mode": "none",
         "name": "Job 2",
         "showlegend": true,
         "type": "scatter",
         "x": [
          "2022-12-11 0:00:07",
          "2022-12-11 0:01:15",
          "2022-12-11 0:01:15",
          "2022-12-11 0:00:07",
          "2022-12-11 0:00:07",
          "2022-12-11 0:02:58",
          "2022-12-11 0:03:13",
          "2022-12-11 0:03:13",
          "2022-12-11 0:02:58",
          "2022-12-11 0:02:58",
          "2022-12-11 0:01:21",
          "2022-12-11 0:02:48",
          "2022-12-11 0:02:48",
          "2022-12-11 0:01:21"
         ],
         "y": [
          1.8,
          1.8,
          2.2,
          2.2,
          null,
          1.8,
          1.8,
          2.2,
          2.2,
          null,
          0.8,
          0.8,
          1.2,
          1.2
         ]
        },
        {
         "fill": "toself",
         "fillcolor": "rgb(31, 119, 180)",
         "hoverinfo": "name",
         "legendgroup": "rgb(31, 119, 180)",
         "mode": "none",
         "name": "Job 1",
         "showlegend": true,
         "type": "scatter",
         "x": [
          "2022-12-11 0:00:00",
          "2022-12-11 0:00:18",
          "2022-12-11 0:00:18",
          "2022-12-11 0:00:00",
          "2022-12-11 0:00:00",
          "2022-12-11 0:01:14",
          "2022-12-11 0:02:28",
          "2022-12-11 0:02:28",
          "2022-12-11 0:01:14",
          "2022-12-11 0:01:14",
          "2022-12-11 0:02:28",
          "2022-12-11 0:03:08",
          "2022-12-11 0:03:08",
          "2022-12-11 0:02:28",
          "2022-12-11 0:02:28",
          "2022-12-11 0:03:08",
          "2022-12-11 0:03:13",
          "2022-12-11 0:03:13",
          "2022-12-11 0:03:08"
         ],
         "y": [
          2.8,
          2.8,
          3.2,
          3.2,
          null,
          2.8,
          2.8,
          3.2,
          3.2,
          null,
          2.8,
          2.8,
          3.2,
          3.2,
          null,
          -0.2,
          -0.2,
          0.2,
          0.2
         ]
        },
        {
         "fill": "toself",
         "fillcolor": "rgb(44, 160, 44)",
         "hoverinfo": "name",
         "legendgroup": "rgb(44, 160, 44)",
         "mode": "none",
         "name": "Job 3",
         "showlegend": true,
         "type": "scatter",
         "x": [
          "2022-12-11 0:00:18",
          "2022-12-11 0:01:14",
          "2022-12-11 0:01:14",
          "2022-12-11 0:00:18",
          "2022-12-11 0:00:18",
          "2022-12-11 0:02:59",
          "2022-12-11 0:03:13",
          "2022-12-11 0:03:13",
          "2022-12-11 0:02:59",
          "2022-12-11 0:02:59",
          "2022-12-11 0:00:00",
          "2022-12-11 0:00:18",
          "2022-12-11 0:00:18",
          "2022-12-11 0:00:00",
          "2022-12-11 0:00:00",
          "2022-12-11 0:01:45",
          "2022-12-11 0:02:59",
          "2022-12-11 0:02:59",
          "2022-12-11 0:01:45"
         ],
         "y": [
          2.8,
          2.8,
          3.2,
          3.2,
          null,
          0.8,
          0.8,
          1.2,
          1.2,
          null,
          -0.2,
          -0.2,
          0.2,
          0.2,
          null,
          -0.2,
          -0.2,
          0.2,
          0.2
         ]
        },
        {
         "legendgroup": "rgb(148, 103, 189)",
         "marker": {
          "color": "rgb(148, 103, 189)",
          "opacity": 0,
          "size": 1
         },
         "mode": "markers",
         "name": "",
         "showlegend": false,
         "text": [
          null,
          null,
          null,
          null
         ],
         "type": "scatter",
         "x": [
          "2022-12-11 0:01:21",
          "2022-12-11 0:02:49",
          "2022-12-11 0:00:17",
          "2022-12-11 0:01:21"
         ],
         "y": [
          4,
          4,
          1,
          1
         ]
        },
        {
         "legendgroup": "rgb(214, 39, 40)",
         "marker": {
          "color": "rgb(214, 39, 40)",
          "opacity": 0,
          "size": 1
         },
         "mode": "markers",
         "name": "",
         "showlegend": false,
         "text": [
          null,
          null,
          null,
          null,
          null,
          null,
          null,
          null
         ],
         "type": "scatter",
         "x": [
          "2022-12-11 0:01:15",
          "2022-12-11 0:01:28",
          "2022-12-11 0:01:28",
          "2022-12-11 0:02:48",
          "2022-12-11 0:02:48",
          "2022-12-11 0:02:59",
          "2022-12-11 0:00:18",
          "2022-12-11 0:00:58"
         ],
         "y": [
          2,
          2,
          2,
          2,
          1,
          1,
          0,
          0
         ]
        },
        {
         "legendgroup": "rgb(255, 127, 14)",
         "marker": {
          "color": "rgb(255, 127, 14)",
          "opacity": 0,
          "size": 1
         },
         "mode": "markers",
         "name": "",
         "showlegend": false,
         "text": [
          null,
          null,
          null,
          null,
          null,
          null
         ],
         "type": "scatter",
         "x": [
          "2022-12-11 0:00:07",
          "2022-12-11 0:01:15",
          "2022-12-11 0:02:58",
          "2022-12-11 0:03:13",
          "2022-12-11 0:01:21",
          "2022-12-11 0:02:48"
         ],
         "y": [
          2,
          2,
          2,
          2,
          1,
          1
         ]
        },
        {
         "legendgroup": "rgb(31, 119, 180)",
         "marker": {
          "color": "rgb(31, 119, 180)",
          "opacity": 0,
          "size": 1
         },
         "mode": "markers",
         "name": "",
         "showlegend": false,
         "text": [
          null,
          null,
          null,
          null,
          null,
          null,
          null,
          null
         ],
         "type": "scatter",
         "x": [
          "2022-12-11 0:00:00",
          "2022-12-11 0:00:18",
          "2022-12-11 0:01:14",
          "2022-12-11 0:02:28",
          "2022-12-11 0:02:28",
          "2022-12-11 0:03:08",
          "2022-12-11 0:03:08",
          "2022-12-11 0:03:13"
         ],
         "y": [
          3,
          3,
          3,
          3,
          3,
          3,
          0,
          0
         ]
        },
        {
         "legendgroup": "rgb(44, 160, 44)",
         "marker": {
          "color": "rgb(44, 160, 44)",
          "opacity": 0,
          "size": 1
         },
         "mode": "markers",
         "name": "",
         "showlegend": false,
         "text": [
          null,
          null,
          null,
          null,
          null,
          null,
          null,
          null
         ],
         "type": "scatter",
         "x": [
          "2022-12-11 0:00:18",
          "2022-12-11 0:01:14",
          "2022-12-11 0:02:59",
          "2022-12-11 0:03:13",
          "2022-12-11 0:00:00",
          "2022-12-11 0:00:18",
          "2022-12-11 0:01:45",
          "2022-12-11 0:02:59"
         ],
         "y": [
          3,
          3,
          1,
          1,
          0,
          0,
          0,
          0
         ]
        }
       ],
       "layout": {
        "annotations": [
         {
          "font": {
           "family": "Times New Roman",
           "size": 30
          },
          "showarrow": false,
          "text": "Cmax = 193 min",
          "x": "2022-12-11 00:03:13",
          "xanchor": "left",
          "xref": "x",
          "y": 1,
          "yanchor": "top",
          "yref": "y domain"
         }
        ],
        "height": 600,
        "hovermode": "closest",
        "shapes": [
         {
          "fillcolor": "violet",
          "line": {
           "width": 0
          },
          "opacity": 0.5,
          "type": "rect",
          "x0": "2022-12-11 00:03:13",
          "x1": "2022-12-11 00:03:15",
          "xref": "x",
          "y0": 0,
          "y1": 1,
          "yref": "y domain"
         }
        ],
        "showlegend": true,
        "template": {
         "data": {
          "bar": [
           {
            "error_x": {
             "color": "#2a3f5f"
            },
            "error_y": {
             "color": "#2a3f5f"
            },
            "marker": {
             "line": {
              "color": "#E5ECF6",
              "width": 0.5
             },
             "pattern": {
              "fillmode": "overlay",
              "size": 10,
              "solidity": 0.2
             }
            },
            "type": "bar"
           }
          ],
          "barpolar": [
           {
            "marker": {
             "line": {
              "color": "#E5ECF6",
              "width": 0.5
             },
             "pattern": {
              "fillmode": "overlay",
              "size": 10,
              "solidity": 0.2
             }
            },
            "type": "barpolar"
           }
          ],
          "carpet": [
           {
            "aaxis": {
             "endlinecolor": "#2a3f5f",
             "gridcolor": "white",
             "linecolor": "white",
             "minorgridcolor": "white",
             "startlinecolor": "#2a3f5f"
            },
            "baxis": {
             "endlinecolor": "#2a3f5f",
             "gridcolor": "white",
             "linecolor": "white",
             "minorgridcolor": "white",
             "startlinecolor": "#2a3f5f"
            },
            "type": "carpet"
           }
          ],
          "choropleth": [
           {
            "colorbar": {
             "outlinewidth": 0,
             "ticks": ""
            },
            "type": "choropleth"
           }
          ],
          "contour": [
           {
            "colorbar": {
             "outlinewidth": 0,
             "ticks": ""
            },
            "colorscale": [
             [
              0,
              "#0d0887"
             ],
             [
              0.1111111111111111,
              "#46039f"
             ],
             [
              0.2222222222222222,
              "#7201a8"
             ],
             [
              0.3333333333333333,
              "#9c179e"
             ],
             [
              0.4444444444444444,
              "#bd3786"
             ],
             [
              0.5555555555555556,
              "#d8576b"
             ],
             [
              0.6666666666666666,
              "#ed7953"
             ],
             [
              0.7777777777777778,
              "#fb9f3a"
             ],
             [
              0.8888888888888888,
              "#fdca26"
             ],
             [
              1,
              "#f0f921"
             ]
            ],
            "type": "contour"
           }
          ],
          "contourcarpet": [
           {
            "colorbar": {
             "outlinewidth": 0,
             "ticks": ""
            },
            "type": "contourcarpet"
           }
          ],
          "heatmap": [
           {
            "colorbar": {
             "outlinewidth": 0,
             "ticks": ""
            },
            "colorscale": [
             [
              0,
              "#0d0887"
             ],
             [
              0.1111111111111111,
              "#46039f"
             ],
             [
              0.2222222222222222,
              "#7201a8"
             ],
             [
              0.3333333333333333,
              "#9c179e"
             ],
             [
              0.4444444444444444,
              "#bd3786"
             ],
             [
              0.5555555555555556,
              "#d8576b"
             ],
             [
              0.6666666666666666,
              "#ed7953"
             ],
             [
              0.7777777777777778,
              "#fb9f3a"
             ],
             [
              0.8888888888888888,
              "#fdca26"
             ],
             [
              1,
              "#f0f921"
             ]
            ],
            "type": "heatmap"
           }
          ],
          "heatmapgl": [
           {
            "colorbar": {
             "outlinewidth": 0,
             "ticks": ""
            },
            "colorscale": [
             [
              0,
              "#0d0887"
             ],
             [
              0.1111111111111111,
              "#46039f"
             ],
             [
              0.2222222222222222,
              "#7201a8"
             ],
             [
              0.3333333333333333,
              "#9c179e"
             ],
             [
              0.4444444444444444,
              "#bd3786"
             ],
             [
              0.5555555555555556,
              "#d8576b"
             ],
             [
              0.6666666666666666,
              "#ed7953"
             ],
             [
              0.7777777777777778,
              "#fb9f3a"
             ],
             [
              0.8888888888888888,
              "#fdca26"
             ],
             [
              1,
              "#f0f921"
             ]
            ],
            "type": "heatmapgl"
           }
          ],
          "histogram": [
           {
            "marker": {
             "pattern": {
              "fillmode": "overlay",
              "size": 10,
              "solidity": 0.2
             }
            },
            "type": "histogram"
           }
          ],
          "histogram2d": [
           {
            "colorbar": {
             "outlinewidth": 0,
             "ticks": ""
            },
            "colorscale": [
             [
              0,
              "#0d0887"
             ],
             [
              0.1111111111111111,
              "#46039f"
             ],
             [
              0.2222222222222222,
              "#7201a8"
             ],
             [
              0.3333333333333333,
              "#9c179e"
             ],
             [
              0.4444444444444444,
              "#bd3786"
             ],
             [
              0.5555555555555556,
              "#d8576b"
             ],
             [
              0.6666666666666666,
              "#ed7953"
             ],
             [
              0.7777777777777778,
              "#fb9f3a"
             ],
             [
              0.8888888888888888,
              "#fdca26"
             ],
             [
              1,
              "#f0f921"
             ]
            ],
            "type": "histogram2d"
           }
          ],
          "histogram2dcontour": [
           {
            "colorbar": {
             "outlinewidth": 0,
             "ticks": ""
            },
            "colorscale": [
             [
              0,
              "#0d0887"
             ],
             [
              0.1111111111111111,
              "#46039f"
             ],
             [
              0.2222222222222222,
              "#7201a8"
             ],
             [
              0.3333333333333333,
              "#9c179e"
             ],
             [
              0.4444444444444444,
              "#bd3786"
             ],
             [
              0.5555555555555556,
              "#d8576b"
             ],
             [
              0.6666666666666666,
              "#ed7953"
             ],
             [
              0.7777777777777778,
              "#fb9f3a"
             ],
             [
              0.8888888888888888,
              "#fdca26"
             ],
             [
              1,
              "#f0f921"
             ]
            ],
            "type": "histogram2dcontour"
           }
          ],
          "mesh3d": [
           {
            "colorbar": {
             "outlinewidth": 0,
             "ticks": ""
            },
            "type": "mesh3d"
           }
          ],
          "parcoords": [
           {
            "line": {
             "colorbar": {
              "outlinewidth": 0,
              "ticks": ""
             }
            },
            "type": "parcoords"
           }
          ],
          "pie": [
           {
            "automargin": true,
            "type": "pie"
           }
          ],
          "scatter": [
           {
            "fillpattern": {
             "fillmode": "overlay",
             "size": 10,
             "solidity": 0.2
            },
            "type": "scatter"
           }
          ],
          "scatter3d": [
           {
            "line": {
             "colorbar": {
              "outlinewidth": 0,
              "ticks": ""
             }
            },
            "marker": {
             "colorbar": {
              "outlinewidth": 0,
              "ticks": ""
             }
            },
            "type": "scatter3d"
           }
          ],
          "scattercarpet": [
           {
            "marker": {
             "colorbar": {
              "outlinewidth": 0,
              "ticks": ""
             }
            },
            "type": "scattercarpet"
           }
          ],
          "scattergeo": [
           {
            "marker": {
             "colorbar": {
              "outlinewidth": 0,
              "ticks": ""
             }
            },
            "type": "scattergeo"
           }
          ],
          "scattergl": [
           {
            "marker": {
             "colorbar": {
              "outlinewidth": 0,
              "ticks": ""
             }
            },
            "type": "scattergl"
           }
          ],
          "scattermapbox": [
           {
            "marker": {
             "colorbar": {
              "outlinewidth": 0,
              "ticks": ""
             }
            },
            "type": "scattermapbox"
           }
          ],
          "scatterpolar": [
           {
            "marker": {
             "colorbar": {
              "outlinewidth": 0,
              "ticks": ""
             }
            },
            "type": "scatterpolar"
           }
          ],
          "scatterpolargl": [
           {
            "marker": {
             "colorbar": {
              "outlinewidth": 0,
              "ticks": ""
             }
            },
            "type": "scatterpolargl"
           }
          ],
          "scatterternary": [
           {
            "marker": {
             "colorbar": {
              "outlinewidth": 0,
              "ticks": ""
             }
            },
            "type": "scatterternary"
           }
          ],
          "surface": [
           {
            "colorbar": {
             "outlinewidth": 0,
             "ticks": ""
            },
            "colorscale": [
             [
              0,
              "#0d0887"
             ],
             [
              0.1111111111111111,
              "#46039f"
             ],
             [
              0.2222222222222222,
              "#7201a8"
             ],
             [
              0.3333333333333333,
              "#9c179e"
             ],
             [
              0.4444444444444444,
              "#bd3786"
             ],
             [
              0.5555555555555556,
              "#d8576b"
             ],
             [
              0.6666666666666666,
              "#ed7953"
             ],
             [
              0.7777777777777778,
              "#fb9f3a"
             ],
             [
              0.8888888888888888,
              "#fdca26"
             ],
             [
              1,
              "#f0f921"
             ]
            ],
            "type": "surface"
           }
          ],
          "table": [
           {
            "cells": {
             "fill": {
              "color": "#EBF0F8"
             },
             "line": {
              "color": "white"
             }
            },
            "header": {
             "fill": {
              "color": "#C8D4E3"
             },
             "line": {
              "color": "white"
             }
            },
            "type": "table"
           }
          ]
         },
         "layout": {
          "annotationdefaults": {
           "arrowcolor": "#2a3f5f",
           "arrowhead": 0,
           "arrowwidth": 1
          },
          "autotypenumbers": "strict",
          "coloraxis": {
           "colorbar": {
            "outlinewidth": 0,
            "ticks": ""
           }
          },
          "colorscale": {
           "diverging": [
            [
             0,
             "#8e0152"
            ],
            [
             0.1,
             "#c51b7d"
            ],
            [
             0.2,
             "#de77ae"
            ],
            [
             0.3,
             "#f1b6da"
            ],
            [
             0.4,
             "#fde0ef"
            ],
            [
             0.5,
             "#f7f7f7"
            ],
            [
             0.6,
             "#e6f5d0"
            ],
            [
             0.7,
             "#b8e186"
            ],
            [
             0.8,
             "#7fbc41"
            ],
            [
             0.9,
             "#4d9221"
            ],
            [
             1,
             "#276419"
            ]
           ],
           "sequential": [
            [
             0,
             "#0d0887"
            ],
            [
             0.1111111111111111,
             "#46039f"
            ],
            [
             0.2222222222222222,
             "#7201a8"
            ],
            [
             0.3333333333333333,
             "#9c179e"
            ],
            [
             0.4444444444444444,
             "#bd3786"
            ],
            [
             0.5555555555555556,
             "#d8576b"
            ],
            [
             0.6666666666666666,
             "#ed7953"
            ],
            [
             0.7777777777777778,
             "#fb9f3a"
            ],
            [
             0.8888888888888888,
             "#fdca26"
            ],
            [
             1,
             "#f0f921"
            ]
           ],
           "sequentialminus": [
            [
             0,
             "#0d0887"
            ],
            [
             0.1111111111111111,
             "#46039f"
            ],
            [
             0.2222222222222222,
             "#7201a8"
            ],
            [
             0.3333333333333333,
             "#9c179e"
            ],
            [
             0.4444444444444444,
             "#bd3786"
            ],
            [
             0.5555555555555556,
             "#d8576b"
            ],
            [
             0.6666666666666666,
             "#ed7953"
            ],
            [
             0.7777777777777778,
             "#fb9f3a"
            ],
            [
             0.8888888888888888,
             "#fdca26"
            ],
            [
             1,
             "#f0f921"
            ]
           ]
          },
          "colorway": [
           "#636efa",
           "#EF553B",
           "#00cc96",
           "#ab63fa",
           "#FFA15A",
           "#19d3f3",
           "#FF6692",
           "#B6E880",
           "#FF97FF",
           "#FECB52"
          ],
          "font": {
           "color": "#2a3f5f"
          },
          "geo": {
           "bgcolor": "white",
           "lakecolor": "white",
           "landcolor": "#E5ECF6",
           "showlakes": true,
           "showland": true,
           "subunitcolor": "white"
          },
          "hoverlabel": {
           "align": "left"
          },
          "hovermode": "closest",
          "mapbox": {
           "style": "light"
          },
          "paper_bgcolor": "white",
          "plot_bgcolor": "#E5ECF6",
          "polar": {
           "angularaxis": {
            "gridcolor": "white",
            "linecolor": "white",
            "ticks": ""
           },
           "bgcolor": "#E5ECF6",
           "radialaxis": {
            "gridcolor": "white",
            "linecolor": "white",
            "ticks": ""
           }
          },
          "scene": {
           "xaxis": {
            "backgroundcolor": "#E5ECF6",
            "gridcolor": "white",
            "gridwidth": 2,
            "linecolor": "white",
            "showbackground": true,
            "ticks": "",
            "zerolinecolor": "white"
           },
           "yaxis": {
            "backgroundcolor": "#E5ECF6",
            "gridcolor": "white",
            "gridwidth": 2,
            "linecolor": "white",
            "showbackground": true,
            "ticks": "",
            "zerolinecolor": "white"
           },
           "zaxis": {
            "backgroundcolor": "#E5ECF6",
            "gridcolor": "white",
            "gridwidth": 2,
            "linecolor": "white",
            "showbackground": true,
            "ticks": "",
            "zerolinecolor": "white"
           }
          },
          "shapedefaults": {
           "line": {
            "color": "#2a3f5f"
           }
          },
          "ternary": {
           "aaxis": {
            "gridcolor": "white",
            "linecolor": "white",
            "ticks": ""
           },
           "baxis": {
            "gridcolor": "white",
            "linecolor": "white",
            "ticks": ""
           },
           "bgcolor": "#E5ECF6",
           "caxis": {
            "gridcolor": "white",
            "linecolor": "white",
            "ticks": ""
           }
          },
          "title": {
           "x": 0.05
          },
          "xaxis": {
           "automargin": true,
           "gridcolor": "white",
           "linecolor": "white",
           "ticks": "",
           "title": {
            "standoff": 15
           },
           "zerolinecolor": "white",
           "zerolinewidth": 2
          },
          "yaxis": {
           "automargin": true,
           "gridcolor": "white",
           "linecolor": "white",
           "ticks": "",
           "title": {
            "standoff": 15
           },
           "zerolinecolor": "white",
           "zerolinewidth": 2
          }
         }
        },
        "title": {
         "text": "Agendamento das Prodruções de linguiças"
        },
        "xaxis": {
         "rangeselector": {
          "buttons": [
           {
            "count": 7,
            "label": "1w",
            "step": "day",
            "stepmode": "backward"
           },
           {
            "count": 1,
            "label": "1m",
            "step": "month",
            "stepmode": "backward"
           },
           {
            "count": 6,
            "label": "6m",
            "step": "month",
            "stepmode": "backward"
           },
           {
            "count": 1,
            "label": "YTD",
            "step": "year",
            "stepmode": "todate"
           },
           {
            "count": 1,
            "label": "1y",
            "step": "year",
            "stepmode": "backward"
           },
           {
            "step": "all"
           }
          ]
         },
         "showgrid": true,
         "type": "date",
         "zeroline": false
        },
        "yaxis": {
         "autorange": false,
         "range": [
          -1,
          6
         ],
         "showgrid": false,
         "ticktext": [
          "Maquina 5",
          "Maquina 4",
          "Maquina 3",
          "Maquina 2",
          "Maquina 1"
         ],
         "tickvals": [
          0,
          1,
          2,
          3,
          4
         ],
         "zeroline": false
        }
       }
      }
     },
     "metadata": {},
     "output_type": "display_data"
    }
   ],
   "source": [
    "import pandas as pd\n",
    "import plotly.figure_factory as ff\n",
    "import datetime\n",
    "from operator import itemgetter\n",
    "\n",
    "\n",
    "m_keys=[j+1 for j in range(6)]\n",
    "j_keys=[j for j in range(5)]\n",
    "index_record=[]\n",
    "j_record={}\n",
    "\n",
    "for var in x:\n",
    "    if x[var].varValue==1:\n",
    "        start_time=str(datetime.timedelta(seconds=st[var[0],var[1],var[2]].varValue)) # convert seconds to hours, minutes and seconds\n",
    "        end_time=str(datetime.timedelta(seconds=ct[var[0],var[1],var[2]].varValue))\n",
    "        j_record[(var[0],var[1],var[2])]=[start_time,end_time]\n",
    "        index_record.append([var[0],var[1],var[2]])\n",
    "index_record.sort(key=itemgetter(2))\n",
    "        \n",
    "\n",
    "df=[]\n",
    "for i in index_record:\n",
    "    df.append(dict(Task='Maquina %s'%(i[2]), Start='2022-12-11 %s'%(str(j_record[(i[0],i[1],i[2])][0])), Finish='2022-12-11 %s'%(str(j_record[(i[0],i[1],i[2])][1])),Resource='Job %s'%(i[0])))\n",
    "    \n",
    "fig = ff.create_gantt(df, index_col='Resource', show_colorbar=True, group_tasks=True, showgrid_x=True, title='Agendamento das Prodruções de linguiças')\n",
    "# fig.add_vline(x=\"2022-12-11 00:03:13\", annotation_text=\"decline\", annotation_position=\"top left\")\n",
    "fig.add_vrect(x0=\"2022-12-11 00:03:13\", x1=\"2022-12-11 00:03:15\", row=\"all\", col=1, annotation_text=\"Cmax = 193 min\", annotation_position=\"top left\", fillcolor=\"violet\", opacity=0.50, line_width=0, annotation=dict(font_size=30, font_family=\"Times New Roman\"))\n",
    "fig"
   ]
  },
  {
   "cell_type": "code",
   "execution_count": null,
   "metadata": {},
   "outputs": [],
   "source": []
  }
 ],
 "metadata": {
  "kernelspec": {
   "display_name": "Python 3",
   "language": "python",
   "name": "python3"
  },
  "language_info": {
   "codemirror_mode": {
    "name": "ipython",
    "version": 3
   },
   "file_extension": ".py",
   "mimetype": "text/x-python",
   "name": "python",
   "nbconvert_exporter": "python",
   "pygments_lexer": "ipython3",
   "version": "3.10.4"
  },
  "orig_nbformat": 4,
  "vscode": {
   "interpreter": {
    "hash": "2ad2ee33b41c9e762ad5bf2f0a3cb009dc3eaf5b09d1ee5fae31ac4a948dfd78"
   }
  }
 },
 "nbformat": 4,
 "nbformat_minor": 2
}
